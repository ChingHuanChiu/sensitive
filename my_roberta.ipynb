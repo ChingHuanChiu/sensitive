{
 "cells": [
  {
   "cell_type": "markdown",
   "metadata": {},
   "source": [
    "# 酒店評論數據 : 情感性分析\n",
    "* 數據來源  : https://github.com/SophonPlus/ChineseNlpCorpus/blob/master/datasets/ChnSentiCorp_htl_all/intro.ipynb"
   ]
  },
  {
   "cell_type": "code",
   "execution_count": 1,
   "metadata": {},
   "outputs": [],
   "source": [
    "import pandas as pd\n",
    "import matplotlib.pyplot as plt\n",
    "import tensorflow_addons as tfa\n",
    "import tensorflow as tf\n",
    "\n",
    "from sklearn.utils import shuffle\n",
    "from train import IMetric, TrainBase\n",
    "from tensorflow.keras.utils import to_categorical\n",
    "from processor import DataLoader\n",
    "from transformers import BertTokenizer\n",
    "from tqdm import tqdm"
   ]
  },
  {
   "cell_type": "code",
   "execution_count": 2,
   "metadata": {},
   "outputs": [
    {
     "data": {
      "text/html": [
       "<div>\n",
       "<style scoped>\n",
       "    .dataframe tbody tr th:only-of-type {\n",
       "        vertical-align: middle;\n",
       "    }\n",
       "\n",
       "    .dataframe tbody tr th {\n",
       "        vertical-align: top;\n",
       "    }\n",
       "\n",
       "    .dataframe thead th {\n",
       "        text-align: right;\n",
       "    }\n",
       "</style>\n",
       "<table border=\"1\" class=\"dataframe\">\n",
       "  <thead>\n",
       "    <tr style=\"text-align: right;\">\n",
       "      <th></th>\n",
       "      <th>label</th>\n",
       "      <th>content</th>\n",
       "    </tr>\n",
       "  </thead>\n",
       "  <tbody>\n",
       "    <tr>\n",
       "      <th>1150</th>\n",
       "      <td>1</td>\n",
       "      <td>2008.4.5入住该酒店南楼大床间,总体感觉不错，符合三星标准。值得赞一下的是客房送餐很好...</td>\n",
       "    </tr>\n",
       "    <tr>\n",
       "      <th>622</th>\n",
       "      <td>1</td>\n",
       "      <td>房间还算可以，就是旧了些。早餐没有酸奶，有些美中不足。</td>\n",
       "    </tr>\n",
       "    <tr>\n",
       "      <th>2720</th>\n",
       "      <td>1</td>\n",
       "      <td>很好的酒店，设施和服务都让人满意，就是偏远了一点。</td>\n",
       "    </tr>\n",
       "    <tr>\n",
       "      <th>5689</th>\n",
       "      <td>0</td>\n",
       "      <td>不如新开张时候好了，房间的地毯比较脏，网速是很慢的，电视的操作也非常不人性化。淋浴的地漏下水...</td>\n",
       "    </tr>\n",
       "    <tr>\n",
       "      <th>4758</th>\n",
       "      <td>1</td>\n",
       "      <td>我们是从银滩的酒店住宿后，搬过来的，所以这个酒店虽然离银滩远点，但是也没觉得什么不便，每天去...</td>\n",
       "    </tr>\n",
       "    <tr>\n",
       "      <th>2312</th>\n",
       "      <td>1</td>\n",
       "      <td>周围的环境很好.在房间可以看到大海.普通间很一般.建议住豪华间.价格差不了多少.豪华间非常大...</td>\n",
       "    </tr>\n",
       "    <tr>\n",
       "      <th>5402</th>\n",
       "      <td>0</td>\n",
       "      <td>一句话，那是相当的差！这也叫3星，有没有搞错，旅馆水平都没有。大厅倒过得去。房间里面消毒水的...</td>\n",
       "    </tr>\n",
       "    <tr>\n",
       "      <th>2336</th>\n",
       "      <td>1</td>\n",
       "      <td>这里虽然房间不大，但是充满温馨；虽然设施不很豪华，但是比较干净；虽然服务人员不多，但是比较细...</td>\n",
       "    </tr>\n",
       "    <tr>\n",
       "      <th>3758</th>\n",
       "      <td>1</td>\n",
       "      <td>上个周末又去了河源。这回提前预订了万豪国际酒店2个晚上，酒店真的没有令我们夫妇失望，我们为自...</td>\n",
       "    </tr>\n",
       "    <tr>\n",
       "      <th>1868</th>\n",
       "      <td>1</td>\n",
       "      <td>房间的整洁及服务都不错,人员的训练及接待都很亲切,入住的感觉也很不错</td>\n",
       "    </tr>\n",
       "  </tbody>\n",
       "</table>\n",
       "</div>"
      ],
      "text/plain": [
       "      label                                            content\n",
       "1150      1  2008.4.5入住该酒店南楼大床间,总体感觉不错，符合三星标准。值得赞一下的是客房送餐很好...\n",
       "622       1                        房间还算可以，就是旧了些。早餐没有酸奶，有些美中不足。\n",
       "2720      1                          很好的酒店，设施和服务都让人满意，就是偏远了一点。\n",
       "5689      0  不如新开张时候好了，房间的地毯比较脏，网速是很慢的，电视的操作也非常不人性化。淋浴的地漏下水...\n",
       "4758      1  我们是从银滩的酒店住宿后，搬过来的，所以这个酒店虽然离银滩远点，但是也没觉得什么不便，每天去...\n",
       "2312      1  周围的环境很好.在房间可以看到大海.普通间很一般.建议住豪华间.价格差不了多少.豪华间非常大...\n",
       "5402      0  一句话，那是相当的差！这也叫3星，有没有搞错，旅馆水平都没有。大厅倒过得去。房间里面消毒水的...\n",
       "2336      1  这里虽然房间不大，但是充满温馨；虽然设施不很豪华，但是比较干净；虽然服务人员不多，但是比较细...\n",
       "3758      1  上个周末又去了河源。这回提前预订了万豪国际酒店2个晚上，酒店真的没有令我们夫妇失望，我们为自...\n",
       "1868      1                 房间的整洁及服务都不错,人员的训练及接待都很亲切,入住的感觉也很不错"
      ]
     },
     "execution_count": 2,
     "metadata": {},
     "output_type": "execute_result"
    }
   ],
   "source": [
    "data = pd.read_csv('data/sensitive.csv')\n",
    "data = data.rename(columns={'review': 'content'})\n",
    "data = data.dropna(0).reset_index(drop=True)\n",
    "# shuffle the data\n",
    "data = shuffle(data)\n",
    "data.head(10)"
   ]
  },
  {
   "cell_type": "markdown",
   "metadata": {},
   "source": [
    "## 去空值"
   ]
  },
  {
   "cell_type": "code",
   "execution_count": 5,
   "metadata": {},
   "outputs": [
    {
     "name": "stdout",
     "output_type": "stream",
     "text": [
      "<class 'pandas.core.frame.DataFrame'>\n",
      "Int64Index: 7765 entries, 1150 to 2585\n",
      "Data columns (total 2 columns):\n",
      " #   Column   Non-Null Count  Dtype \n",
      "---  ------   --------------  ----- \n",
      " 0   label    7765 non-null   int64 \n",
      " 1   content  7765 non-null   object\n",
      "dtypes: int64(1), object(1)\n",
      "memory usage: 182.0+ KB\n",
      "None\n",
      "==============================\n"
     ]
    },
    {
     "data": {
      "text/plain": [
       "0"
      ]
     },
     "execution_count": 5,
     "metadata": {},
     "output_type": "execute_result"
    }
   ],
   "source": [
    "print(data.info())\n",
    "print('=' * 30)\n",
    "data.content.isna().sum()"
   ]
  },
  {
   "cell_type": "markdown",
   "metadata": {},
   "source": [
    "## * 去除重複標點符號，例如:\"你好!!!!!\" --> \"你好!\"\n",
    "## * 去除跳脫字符與網址"
   ]
  },
  {
   "cell_type": "code",
   "execution_count": 6,
   "metadata": {},
   "outputs": [],
   "source": [
    "def preprocess_data(context):\n",
    "    import re\n",
    "    import numpy\n",
    "    context = context.strip()\n",
    "    context = re.sub(r'[\\s]+|http[s]?://(?:[a-zA-Z]|[0-9]|[$-_@.&+]|[!*\\(\\),]|(?:%[0-9a-fA-F]))', \"\", context)\n",
    "    context = re.sub(r'([?。,!])\\1+', \"\", context)\n",
    "    \n",
    "    return context\n",
    "\n",
    "data['content'] = data['content'].apply(preprocess_data)"
   ]
  },
  {
   "cell_type": "markdown",
   "metadata": {},
   "source": [
    "### 正負樣本比例"
   ]
  },
  {
   "cell_type": "code",
   "execution_count": 7,
   "metadata": {},
   "outputs": [
    {
     "name": "stdout",
     "output_type": "stream",
     "text": [
      "      label\n",
      "1  0.685383\n",
      "0  0.314617\n",
      "====================\n"
     ]
    },
    {
     "data": {
      "text/plain": [
       "<AxesSubplot:>"
      ]
     },
     "execution_count": 7,
     "metadata": {},
     "output_type": "execute_result"
    },
    {
     "data": {
      "image/png": "[encoded data removed]",
      "text/plain": [
       "<Figure size 432x288 with 1 Axes>"
      ]
     },
     "metadata": {
      "needs_background": "light"
     },
     "output_type": "display_data"
    }
   ],
   "source": [
    "value_count = pd.DataFrame(data.label.value_counts(normalize=True))\n",
    "print(value_count)\n",
    "print('=' * 20)\n",
    "value_count.plot.bar()"
   ]
  },
  {
   "cell_type": "markdown",
   "metadata": {},
   "source": [
    "### 字數統計"
   ]
  },
  {
   "cell_type": "code",
   "execution_count": 8,
   "metadata": {},
   "outputs": [
    {
     "data": {
      "text/plain": [
       "<AxesSubplot:title={'center':'neg'}, ylabel='Frequency'>"
      ]
     },
     "execution_count": 8,
     "metadata": {},
     "output_type": "execute_result"
    },
    {
     "data": {
      "image/png": "[encoded data removed]",
      "text/plain": [
       "<Figure size 576x576 with 2 Axes>"
      ]
     },
     "metadata": {
      "needs_background": "light"
     },
     "output_type": "display_data"
    }
   ],
   "source": [
    "pos_len = data[data.label == 1].content.apply(len)\n",
    "neg_len = data[data.label == 0].content.apply(len)\n",
    "pos_len.name, neg_len.name = 'pos_content', 'neg_content'\n",
    "fig, axs = plt.subplots(2, figsize=(8,8))\n",
    "\n",
    "pos_len.plot.hist(ax=axs[0], title='pos',bins=200)\n",
    "neg_len.plot.hist(ax=axs[1], title='neg', bins=200)"
   ]
  },
  {
   "cell_type": "code",
   "execution_count": 9,
   "metadata": {},
   "outputs": [
    {
     "data": {
      "text/html": [
       "<div>\n",
       "<style scoped>\n",
       "    .dataframe tbody tr th:only-of-type {\n",
       "        vertical-align: middle;\n",
       "    }\n",
       "\n",
       "    .dataframe tbody tr th {\n",
       "        vertical-align: top;\n",
       "    }\n",
       "\n",
       "    .dataframe thead th {\n",
       "        text-align: right;\n",
       "    }\n",
       "</style>\n",
       "<table border=\"1\" class=\"dataframe\">\n",
       "  <thead>\n",
       "    <tr style=\"text-align: right;\">\n",
       "      <th></th>\n",
       "      <th>pos_content</th>\n",
       "      <th>neg_content</th>\n",
       "    </tr>\n",
       "  </thead>\n",
       "  <tbody>\n",
       "    <tr>\n",
       "      <th>count</th>\n",
       "      <td>5322.000000</td>\n",
       "      <td>2443.000000</td>\n",
       "    </tr>\n",
       "    <tr>\n",
       "      <th>mean</th>\n",
       "      <td>111.867531</td>\n",
       "      <td>163.998363</td>\n",
       "    </tr>\n",
       "    <tr>\n",
       "      <th>std</th>\n",
       "      <td>119.109333</td>\n",
       "      <td>180.723843</td>\n",
       "    </tr>\n",
       "    <tr>\n",
       "      <th>min</th>\n",
       "      <td>2.000000</td>\n",
       "      <td>2.000000</td>\n",
       "    </tr>\n",
       "    <tr>\n",
       "      <th>25%</th>\n",
       "      <td>42.000000</td>\n",
       "      <td>57.000000</td>\n",
       "    </tr>\n",
       "    <tr>\n",
       "      <th>50%</th>\n",
       "      <td>75.000000</td>\n",
       "      <td>108.000000</td>\n",
       "    </tr>\n",
       "    <tr>\n",
       "      <th>75%</th>\n",
       "      <td>135.750000</td>\n",
       "      <td>201.000000</td>\n",
       "    </tr>\n",
       "    <tr>\n",
       "      <th>max</th>\n",
       "      <td>1459.000000</td>\n",
       "      <td>2924.000000</td>\n",
       "    </tr>\n",
       "  </tbody>\n",
       "</table>\n",
       "</div>"
      ],
      "text/plain": [
       "       pos_content  neg_content\n",
       "count  5322.000000  2443.000000\n",
       "mean    111.867531   163.998363\n",
       "std     119.109333   180.723843\n",
       "min       2.000000     2.000000\n",
       "25%      42.000000    57.000000\n",
       "50%      75.000000   108.000000\n",
       "75%     135.750000   201.000000\n",
       "max    1459.000000  2924.000000"
      ]
     },
     "execution_count": 9,
     "metadata": {},
     "output_type": "execute_result"
    }
   ],
   "source": [
    "pd.concat([pos_len.describe(), neg_len.describe()], 1)"
   ]
  },
  {
   "cell_type": "code",
   "execution_count": 10,
   "metadata": {},
   "outputs": [
    {
     "name": "stdout",
     "output_type": "stream",
     "text": [
      "正向文字小於200字的比例 :  0.8703494926719278\n",
      "負向文字小於200字的比例 :  0.7490790012279983\n"
     ]
    }
   ],
   "source": [
    "count = 200\n",
    "print(f'正向文字小於{count}字的比例 : ',  len(pos_len[pos_len <= count]) / len(pos_len))\n",
    "print(f'負向文字小於{count}字的比例 : ',  len(neg_len[neg_len <= count]) / len(neg_len))"
   ]
  },
  {
   "cell_type": "markdown",
   "metadata": {},
   "source": [
    "## Split data into train and test"
   ]
  },
  {
   "cell_type": "code",
   "execution_count": 11,
   "metadata": {},
   "outputs": [],
   "source": [
    "split_point = int(len(data) * 0.8)\n",
    "train_data = data.iloc[:split_point]\n",
    "test_data = data.iloc[split_point:]\n",
    "train_data.to_pickle('./data/train_data/train.pickle')\n",
    "test_data.to_pickle('./data/test_data/test.pickle')"
   ]
  },
  {
   "cell_type": "code",
   "execution_count": 12,
   "metadata": {},
   "outputs": [
    {
     "data": {
      "text/html": [
       "<div>\n",
       "<style scoped>\n",
       "    .dataframe tbody tr th:only-of-type {\n",
       "        vertical-align: middle;\n",
       "    }\n",
       "\n",
       "    .dataframe tbody tr th {\n",
       "        vertical-align: top;\n",
       "    }\n",
       "\n",
       "    .dataframe thead th {\n",
       "        text-align: right;\n",
       "    }\n",
       "</style>\n",
       "<table border=\"1\" class=\"dataframe\">\n",
       "  <thead>\n",
       "    <tr style=\"text-align: right;\">\n",
       "      <th></th>\n",
       "      <th>label</th>\n",
       "      <th>content</th>\n",
       "    </tr>\n",
       "  </thead>\n",
       "  <tbody>\n",
       "    <tr>\n",
       "      <th>1150</th>\n",
       "      <td>1</td>\n",
       "      <td>2008.4.5入住该酒店南楼大床间,总体感觉不错，符合三星标准。值得赞一下的是客房送餐很好...</td>\n",
       "    </tr>\n",
       "    <tr>\n",
       "      <th>622</th>\n",
       "      <td>1</td>\n",
       "      <td>房间还算可以，就是旧了些。早餐没有酸奶，有些美中不足。</td>\n",
       "    </tr>\n",
       "    <tr>\n",
       "      <th>2720</th>\n",
       "      <td>1</td>\n",
       "      <td>很好的酒店，设施和服务都让人满意，就是偏远了一点。</td>\n",
       "    </tr>\n",
       "    <tr>\n",
       "      <th>5689</th>\n",
       "      <td>0</td>\n",
       "      <td>不如新开张时候好了，房间的地毯比较脏，网速是很慢的，电视的操作也非常不人性化。淋浴的地漏下水...</td>\n",
       "    </tr>\n",
       "    <tr>\n",
       "      <th>4758</th>\n",
       "      <td>1</td>\n",
       "      <td>我们是从银滩的酒店住宿后，搬过来的，所以这个酒店虽然离银滩远点，但是也没觉得什么不便，每天去...</td>\n",
       "    </tr>\n",
       "    <tr>\n",
       "      <th>...</th>\n",
       "      <td>...</td>\n",
       "      <td>...</td>\n",
       "    </tr>\n",
       "    <tr>\n",
       "      <th>5029</th>\n",
       "      <td>1</td>\n",
       "      <td>位置好是没得说的，酒店比较老旧了，宽带有的还要收费。</td>\n",
       "    </tr>\n",
       "    <tr>\n",
       "      <th>5779</th>\n",
       "      <td>0</td>\n",
       "      <td>千万不要住！首先是走廊和房间都一股发霉的味道！而且早餐超级难吃！最受不了的就是招待所级别的服...</td>\n",
       "    </tr>\n",
       "    <tr>\n",
       "      <th>2848</th>\n",
       "      <td>1</td>\n",
       "      <td>房间很一般，但服务员态度还不错。不过听说韶山还有比这个更好的酒店，但携程没有。免费注册网站导...</td>\n",
       "    </tr>\n",
       "    <tr>\n",
       "      <th>3767</th>\n",
       "      <td>1</td>\n",
       "      <td>免费自助早餐在该酒店斜对面的阳光.和酒巴.这个酒巴可是被用来拍过电影的哦.</td>\n",
       "    </tr>\n",
       "    <tr>\n",
       "      <th>6329</th>\n",
       "      <td>0</td>\n",
       "      <td>就在美美百</td>\n",
       "    </tr>\n",
       "  </tbody>\n",
       "</table>\n",
       "<p>6212 rows × 2 columns</p>\n",
       "</div>"
      ],
      "text/plain": [
       "      label                                            content\n",
       "1150      1  2008.4.5入住该酒店南楼大床间,总体感觉不错，符合三星标准。值得赞一下的是客房送餐很好...\n",
       "622       1                        房间还算可以，就是旧了些。早餐没有酸奶，有些美中不足。\n",
       "2720      1                          很好的酒店，设施和服务都让人满意，就是偏远了一点。\n",
       "5689      0  不如新开张时候好了，房间的地毯比较脏，网速是很慢的，电视的操作也非常不人性化。淋浴的地漏下水...\n",
       "4758      1  我们是从银滩的酒店住宿后，搬过来的，所以这个酒店虽然离银滩远点，但是也没觉得什么不便，每天去...\n",
       "...     ...                                                ...\n",
       "5029      1                         位置好是没得说的，酒店比较老旧了，宽带有的还要收费。\n",
       "5779      0  千万不要住！首先是走廊和房间都一股发霉的味道！而且早餐超级难吃！最受不了的就是招待所级别的服...\n",
       "2848      1  房间很一般，但服务员态度还不错。不过听说韶山还有比这个更好的酒店，但携程没有。免费注册网站导...\n",
       "3767      1              免费自助早餐在该酒店斜对面的阳光.和酒巴.这个酒巴可是被用来拍过电影的哦.\n",
       "6329      0                                              就在美美百\n",
       "\n",
       "[6212 rows x 2 columns]"
      ]
     },
     "execution_count": 12,
     "metadata": {},
     "output_type": "execute_result"
    }
   ],
   "source": [
    "train_data"
   ]
  },
  {
   "cell_type": "markdown",
   "metadata": {},
   "source": [
    "#  Basic Train\n",
    "* 用roberta model 建模"
   ]
  },
  {
   "cell_type": "code",
   "execution_count": 6,
   "metadata": {},
   "outputs": [],
   "source": [
    "from train import IMetric, TrainBase\n",
    "\n",
    "from roberta.model import RoBertaFineTune"
   ]
  },
  {
   "cell_type": "markdown",
   "metadata": {},
   "source": [
    "## Prepare training data"
   ]
  },
  {
   "cell_type": "code",
   "execution_count": 3,
   "metadata": {},
   "outputs": [],
   "source": [
    "training_data = pd.read_pickle('./data/train_data/train.pickle')\n",
    "split_spot = int(training_data.shape[0] * 0.8)\n",
    "train = training_data.iloc[: split_spot]\n",
    "validation = training_data.iloc[split_spot: ]\n",
    "\n",
    "tokenizer = BertTokenizer.from_pretrained(\"hfl/chinese-roberta-wwm-ext\")\n",
    "train_BTL = DataLoader(data=train,\n",
    "                      MAX_SEQUENCE_LENGTH=200,\n",
    "                      batch_size=10,\n",
    "                      imbalance_sample=False,\n",
    "                      tokenizer=tokenizer)\n",
    "\n",
    "val_BTL = DataLoader(data=validation, \n",
    "                     MAX_SEQUENCE_LENGTH=200,\n",
    "                     batch_size=10, \n",
    "                     imbalance_sample=False,\n",
    "                     tokenizer=tokenizer)"
   ]
  },
  {
   "cell_type": "code",
   "execution_count": 4,
   "metadata": {},
   "outputs": [],
   "source": [
    "model = RoBertaFineTune(False)\n"
   ]
  },
  {
   "cell_type": "markdown",
   "metadata": {},
   "source": [
    "# Define customized metrics"
   ]
  },
  {
   "cell_type": "code",
   "execution_count": 3,
   "metadata": {},
   "outputs": [],
   "source": [
    "class Metrics(IMetric):\n",
    "\n",
    "    def __init__(self):\n",
    "        self.f1 = tfa.metrics.F1Score(num_classes=2, name='f1_score')\n",
    "        self.acc_metric = tf.keras.metrics.CategoricalAccuracy()\n",
    "        self.AUC = tf.keras.metrics.AUC()\n",
    "        self.recall_neg = tf.keras.metrics.Recall(class_id=0)\n",
    "        \n",
    "\n",
    "    def calculate_metric(self, y_batch, logits):\n",
    "        self.f1(to_categorical(y_batch, 2), logits)\n",
    "        self.AUC(to_categorical(y_batch, 2), logits)\n",
    "        self.acc_metric(to_categorical(y_batch, 2), logits)\n",
    "        self.recall_neg(to_categorical(y_batch, 2), logits)\n",
    "        \n",
    "        \n",
    "    @property\n",
    "    def get_result(self):\n",
    "        result = dict()\n",
    "        for name, metric in self.__dict__.items():\n",
    "            result_metric =  metric.result()\n",
    "            \n",
    "            try:\n",
    "                #get the f1 score of label=1 \n",
    "                result[name] = result_metric[1]\n",
    "            except:\n",
    "                \n",
    "                result[name] = result_metric\n",
    "           \n",
    "                \n",
    "\n",
    "        return result\n",
    "        "
   ]
  },
  {
   "cell_type": "code",
   "execution_count": 6,
   "metadata": {},
   "outputs": [],
   "source": [
    "class RegularTrain(TrainBase):\n",
    "    def __init__(self, model, metric: Metrics):\n",
    "        self.model = model\n",
    "        self.metric = metric\n",
    "\n",
    "    def train_step(self, X_batch, y_batch, optimizer, loss_recoder):\n",
    "        with tf.GradientTape() as tape:\n",
    "            logits = self.model(X_batch)\n",
    "\n",
    "            loss_value = tf.keras.losses.SparseCategoricalCrossentropy(from_logits=False)(y_batch, logits)\n",
    "\n",
    "            loss_recoder.append(loss_value.numpy())\n",
    "\n",
    "        grads = tape.gradient(loss_value, self.model.trainable_weights)\n",
    "        optimizer.apply_gradients(zip(grads, self.model.trainable_weights))\n",
    "\n",
    "        return logits, loss_recoder\n",
    "\n",
    "    def setting_optimizer(self, decay_steps):\n",
    "        bert_lr_schedule = tf.keras.optimizers.schedules.PiecewiseConstantDecay(boundaries=[200, 600, 1200], \n",
    "                                                                                values=[2e-5, 1.5e-5, 1.5e-5*0.5, 1.5e-5*0.25])\n",
    "\n",
    "        optimizer = tf.keras.optimizers.Adam(learning_rate=bert_lr_schedule)\n",
    "        \n",
    "        \n",
    "        return optimizer\n"
   ]
  },
  {
   "cell_type": "code",
   "execution_count": 7,
   "metadata": {
    "collapsed": true,
    "jupyter": {
     "outputs_hidden": true
    }
   },
   "outputs": [
    {
     "name": "stderr",
     "output_type": "stream",
     "text": [
      "  0%|          | 0/497 [00:00<?, ?it/s]"
     ]
    },
    {
     "name": "stdout",
     "output_type": "stream",
     "text": [
      "tf.Tensor(2e-05, shape=(), dtype=float32)\n",
      "==========================\n",
      "EPOCH 0\n",
      "==========================\n",
      "WARNING: AutoGraph could not transform <bound method RoBertaFineTune.call of <tensorflow.python.eager.function.TfMethodTarget object at 0x7f4a18f678d0>> and will run it as-is.\n",
      "Please report this to the TensorFlow team. When filing the bug, set the verbosity to 10 (on Linux, `export AUTOGRAPH_VERBOSITY=10`) and attach the full output.\n",
      "Cause: module 'gast' has no attribute 'Index'\n",
      "To silence this warning, decorate the function with @tf.autograph.experimental.do_not_convert\n",
      "WARNING: AutoGraph could not transform <bound method TFBertMainLayer.call of <transformers.models.bert.modeling_tf_bert.TFBertMainLayer object at 0x7f4a19104b50>> and will run it as-is.\n",
      "Please report this to the TensorFlow team. When filing the bug, set the verbosity to 10 (on Linux, `export AUTOGRAPH_VERBOSITY=10`) and attach the full output.\n",
      "Cause: module 'gast' has no attribute 'Index'\n",
      "To silence this warning, decorate the function with @tf.autograph.experimental.do_not_convert\n",
      "WARNING: AutoGraph could not transform <bound method TFBertEmbeddings._embedding of <transformers.models.bert.modeling_tf_bert.TFBertEmbeddings object at 0x7f4a22097410>> and will run it as-is.\n",
      "Please report this to the TensorFlow team. When filing the bug, set the verbosity to 10 (on Linux, `export AUTOGRAPH_VERBOSITY=10`) and attach the full output.\n",
      "Cause: module 'gast' has no attribute 'Index'\n",
      "To silence this warning, decorate the function with @tf.autograph.experimental.do_not_convert\n",
      "WARNING: AutoGraph could not transform <bound method TFBertEncoder.call of <transformers.models.bert.modeling_tf_bert.TFBertEncoder object at 0x7f4a18eefdd0>> and will run it as-is.\n",
      "Please report this to the TensorFlow team. When filing the bug, set the verbosity to 10 (on Linux, `export AUTOGRAPH_VERBOSITY=10`) and attach the full output.\n",
      "Cause: module 'gast' has no attribute 'Index'\n",
      "To silence this warning, decorate the function with @tf.autograph.experimental.do_not_convert\n",
      "WARNING: AutoGraph could not transform <bound method TFBertLayer.call of <transformers.models.bert.modeling_tf_bert.TFBertLayer object at 0x7f4a18f09bd0>> and will run it as-is.\n",
      "Please report this to the TensorFlow team. When filing the bug, set the verbosity to 10 (on Linux, `export AUTOGRAPH_VERBOSITY=10`) and attach the full output.\n",
      "Cause: module 'gast' has no attribute 'Index'\n",
      "To silence this warning, decorate the function with @tf.autograph.experimental.do_not_convert\n",
      "WARNING: AutoGraph could not transform <bound method TFBertAttention.call of <transformers.models.bert.modeling_tf_bert.TFBertAttention object at 0x7f4a18f09390>> and will run it as-is.\n",
      "Please report this to the TensorFlow team. When filing the bug, set the verbosity to 10 (on Linux, `export AUTOGRAPH_VERBOSITY=10`) and attach the full output.\n",
      "Cause: module 'gast' has no attribute 'Index'\n",
      "To silence this warning, decorate the function with @tf.autograph.experimental.do_not_convert\n",
      "WARNING: AutoGraph could not transform <bound method TFBertSelfAttention.call of <transformers.models.bert.modeling_tf_bert.TFBertSelfAttention object at 0x7f4a18f09850>> and will run it as-is.\n",
      "Please report this to the TensorFlow team. When filing the bug, set the verbosity to 10 (on Linux, `export AUTOGRAPH_VERBOSITY=10`) and attach the full output.\n",
      "Cause: module 'gast' has no attribute 'Index'\n",
      "To silence this warning, decorate the function with @tf.autograph.experimental.do_not_convert\n",
      "WARNING: AutoGraph could not transform <bound method TFBertPooler.call of <transformers.models.bert.modeling_tf_bert.TFBertPooler object at 0x7f4a18150710>> and will run it as-is.\n",
      "Please report this to the TensorFlow team. When filing the bug, set the verbosity to 10 (on Linux, `export AUTOGRAPH_VERBOSITY=10`) and attach the full output.\n",
      "Cause: module 'gast' has no attribute 'Index'\n",
      "To silence this warning, decorate the function with @tf.autograph.experimental.do_not_convert\n"
     ]
    },
    {
     "name": "stderr",
     "output_type": "stream",
     "text": [
      "100%|██████████| 497/497 [02:27<00:00,  3.37it/s]\n"
     ]
    },
    {
     "name": "stdout",
     "output_type": "stream",
     "text": [
      "training loss is 0.28685104499910197\n",
      "Training f1 over epoch : 0.9099469780921936\n",
      "Training acc_metric over epoch : 0.876836359500885\n",
      "Training AUC over epoch : 0.9496009945869446\n",
      "Training recall_neg over epoch : 0.7976040244102478\n",
      "============================================================\n"
     ]
    },
    {
     "name": "stderr",
     "output_type": "stream",
     "text": [
      "  0%|          | 0/497 [00:00<?, ?it/s]"
     ]
    },
    {
     "name": "stdout",
     "output_type": "stream",
     "text": [
      " loss of validation is 0.42799498462677\n",
      "Validation f1 over epoch : 0.9335548281669617\n",
      "Validation acc_metric over epoch : 0.903459370136261\n",
      "Validation AUC over epoch : 0.966552197933197\n",
      "Validation recall_neg over epoch : 0.7486631274223328\n",
      "============================================================\n",
      "tf.Tensor(1.5e-05, shape=(), dtype=float32)\n",
      "==========================\n",
      "EPOCH 1\n",
      "==========================\n"
     ]
    },
    {
     "name": "stderr",
     "output_type": "stream",
     "text": [
      "100%|██████████| 497/497 [02:20<00:00,  3.53it/s]\n"
     ]
    },
    {
     "name": "stdout",
     "output_type": "stream",
     "text": [
      "training loss is 0.1246123099170243\n",
      "Training f1 over epoch : 0.9656499624252319\n",
      "Training acc_metric over epoch : 0.9533105492591858\n",
      "Training AUC over epoch : 0.9902324080467224\n",
      "Training recall_neg over epoch : 0.9306431412696838\n",
      "============================================================\n"
     ]
    },
    {
     "name": "stderr",
     "output_type": "stream",
     "text": [
      "  0%|          | 0/497 [00:00<?, ?it/s]"
     ]
    },
    {
     "name": "stdout",
     "output_type": "stream",
     "text": [
      " loss of validation is 0.4087435846328735\n",
      "Validation f1 over epoch : 0.9299362897872925\n",
      "Validation acc_metric over epoch : 0.9026548862457275\n",
      "Validation AUC over epoch : 0.9621875882148743\n",
      "Validation recall_neg over epoch : 0.8529411554336548\n",
      "============================================================\n",
      "tf.Tensor(7.5e-06, shape=(), dtype=float32)\n",
      "==========================\n",
      "EPOCH 2\n",
      "==========================\n"
     ]
    },
    {
     "name": "stderr",
     "output_type": "stream",
     "text": [
      "100%|██████████| 497/497 [02:21<00:00,  3.51it/s]\n"
     ]
    },
    {
     "name": "stdout",
     "output_type": "stream",
     "text": [
      "training loss is 0.050926236096597174\n",
      "Training f1 over epoch : 0.9887408018112183\n",
      "Training acc_metric over epoch : 0.9847051501274109\n",
      "Training AUC over epoch : 0.998123049736023\n",
      "Training recall_neg over epoch : 0.9810844659805298\n",
      "============================================================\n"
     ]
    },
    {
     "name": "stderr",
     "output_type": "stream",
     "text": [
      "  0%|          | 0/497 [00:00<?, ?it/s]"
     ]
    },
    {
     "name": "stdout",
     "output_type": "stream",
     "text": [
      " loss of validation is 0.40875198888778685\n",
      "Validation f1 over epoch : 0.9326655268669128\n",
      "Validation acc_metric over epoch : 0.9026548862457275\n",
      "Validation AUC over epoch : 0.9495038986206055\n",
      "Validation recall_neg over epoch : 0.759358286857605\n",
      "============================================================\n",
      "tf.Tensor(3.75e-06, shape=(), dtype=float32)\n",
      "==========================\n",
      "EPOCH 3\n",
      "==========================\n"
     ]
    },
    {
     "name": "stderr",
     "output_type": "stream",
     "text": [
      "100%|██████████| 497/497 [02:21<00:00,  3.51it/s]\n"
     ]
    },
    {
     "name": "stdout",
     "output_type": "stream",
     "text": [
      "training loss is 0.014082147898171209\n",
      "Training f1 over epoch : 0.9977807402610779\n",
      "Training acc_metric over epoch : 0.9969812631607056\n",
      "Training AUC over epoch : 0.9996352791786194\n",
      "Training recall_neg over epoch : 0.9974779486656189\n",
      "============================================================\n"
     ]
    },
    {
     "name": "stderr",
     "output_type": "stream",
     "text": [
      "  0%|          | 0/497 [00:00<?, ?it/s]"
     ]
    },
    {
     "name": "stdout",
     "output_type": "stream",
     "text": [
      " loss of validation is 0.4119042065143585\n",
      "Validation f1 over epoch : 0.927823007106781\n",
      "Validation acc_metric over epoch : 0.9002413749694824\n",
      "Validation AUC over epoch : 0.9508109092712402\n",
      "Validation recall_neg over epoch : 0.8609625697135925\n",
      "============================================================\n",
      "tf.Tensor(3.75e-06, shape=(), dtype=float32)\n",
      "==========================\n",
      "EPOCH 4\n",
      "==========================\n"
     ]
    },
    {
     "name": "stderr",
     "output_type": "stream",
     "text": [
      "100%|██████████| 497/497 [02:21<00:00,  3.51it/s]\n"
     ]
    },
    {
     "name": "stdout",
     "output_type": "stream",
     "text": [
      "training loss is 0.00686092549843397\n",
      "Training f1 over epoch : 0.9989650249481201\n",
      "Training acc_metric over epoch : 0.9985912442207336\n",
      "Training AUC over epoch : 0.9997433423995972\n",
      "Training recall_neg over epoch : 0.9987389445304871\n",
      "============================================================\n"
     ]
    },
    {
     "name": "stderr",
     "output_type": "stream",
     "text": [
      "  0%|          | 0/497 [00:00<?, ?it/s]"
     ]
    },
    {
     "name": "stdout",
     "output_type": "stream",
     "text": [
      " loss of validation is 0.4091466705799103\n",
      "Validation f1 over epoch : 0.9307384490966797\n",
      "Validation acc_metric over epoch : 0.9026548862457275\n",
      "Validation AUC over epoch : 0.9454852342605591\n",
      "Validation recall_neg over epoch : 0.8262032270431519\n",
      "============================================================\n",
      "tf.Tensor(3.75e-06, shape=(), dtype=float32)\n",
      "==========================\n",
      "EPOCH 5\n",
      "==========================\n"
     ]
    },
    {
     "name": "stderr",
     "output_type": "stream",
     "text": [
      "100%|██████████| 497/497 [02:21<00:00,  3.50it/s]\n"
     ]
    },
    {
     "name": "stdout",
     "output_type": "stream",
     "text": [
      "training loss is 0.0030090797013867603\n",
      "Training f1 over epoch : 0.9995565414428711\n",
      "Training acc_metric over epoch : 0.9993962645530701\n",
      "Training AUC over epoch : 0.9999926686286926\n",
      "Training recall_neg over epoch : 0.9993695020675659\n",
      "============================================================\n"
     ]
    },
    {
     "name": "stderr",
     "output_type": "stream",
     "text": [
      "  0%|          | 0/497 [00:00<?, ?it/s]"
     ]
    },
    {
     "name": "stdout",
     "output_type": "stream",
     "text": [
      " loss of validation is 0.4113434855937958\n",
      "Validation f1 over epoch : 0.9283667802810669\n",
      "Validation acc_metric over epoch : 0.8994368314743042\n",
      "Validation AUC over epoch : 0.9379585981369019\n",
      "Validation recall_neg over epoch : 0.8235294222831726\n",
      "============================================================\n",
      "tf.Tensor(3.75e-06, shape=(), dtype=float32)\n",
      "==========================\n",
      "EPOCH 6\n",
      "==========================\n"
     ]
    },
    {
     "name": "stderr",
     "output_type": "stream",
     "text": [
      "100%|██████████| 497/497 [02:21<00:00,  3.50it/s]\n"
     ]
    },
    {
     "name": "stdout",
     "output_type": "stream",
     "text": [
      "training loss is 0.0010386931244137517\n",
      "Training f1 over epoch : 0.9998522400856018\n",
      "Training acc_metric over epoch : 0.9997987747192383\n",
      "Training AUC over epoch : 0.9999999403953552\n",
      "Training recall_neg over epoch : 1.0\n",
      "============================================================\n"
     ]
    },
    {
     "name": "stderr",
     "output_type": "stream",
     "text": [
      "  0%|          | 0/497 [00:00<?, ?it/s]"
     ]
    },
    {
     "name": "stdout",
     "output_type": "stream",
     "text": [
      " loss of validation is 0.4110321269035339\n",
      "Validation f1 over epoch : 0.9307384490966797\n",
      "Validation acc_metric over epoch : 0.9026548862457275\n",
      "Validation AUC over epoch : 0.9318493008613586\n",
      "Validation recall_neg over epoch : 0.8262032270431519\n",
      "============================================================\n",
      "tf.Tensor(3.75e-06, shape=(), dtype=float32)\n",
      "==========================\n",
      "EPOCH 7\n",
      "==========================\n"
     ]
    },
    {
     "name": "stderr",
     "output_type": "stream",
     "text": [
      "100%|██████████| 497/497 [02:25<00:00,  3.41it/s]\n"
     ]
    },
    {
     "name": "stdout",
     "output_type": "stream",
     "text": [
      "training loss is 0.0003135131503638279\n",
      "Training f1 over epoch : 1.0\n",
      "Training acc_metric over epoch : 1.0\n",
      "Training AUC over epoch : 1.0\n",
      "Training recall_neg over epoch : 1.0\n",
      "============================================================\n"
     ]
    },
    {
     "name": "stderr",
     "output_type": "stream",
     "text": [
      "  0%|          | 0/497 [00:00<?, ?it/s]"
     ]
    },
    {
     "name": "stdout",
     "output_type": "stream",
     "text": [
      " loss of validation is 0.41134078073501584\n",
      "Validation f1 over epoch : 0.9307384490966797\n",
      "Validation acc_metric over epoch : 0.9026548862457275\n",
      "Validation AUC over epoch : 0.9256030321121216\n",
      "Validation recall_neg over epoch : 0.8262032270431519\n",
      "============================================================\n",
      "tf.Tensor(3.75e-06, shape=(), dtype=float32)\n",
      "==========================\n",
      "EPOCH 8\n",
      "==========================\n"
     ]
    },
    {
     "name": "stderr",
     "output_type": "stream",
     "text": [
      "100%|██████████| 497/497 [02:25<00:00,  3.40it/s]\n"
     ]
    },
    {
     "name": "stdout",
     "output_type": "stream",
     "text": [
      "training loss is 0.00019250114405210556\n",
      "Training f1 over epoch : 1.0\n",
      "Training acc_metric over epoch : 1.0\n",
      "Training AUC over epoch : 0.9999999403953552\n",
      "Training recall_neg over epoch : 1.0\n",
      "============================================================\n"
     ]
    },
    {
     "name": "stderr",
     "output_type": "stream",
     "text": [
      "  0%|          | 0/497 [00:00<?, ?it/s]"
     ]
    },
    {
     "name": "stdout",
     "output_type": "stream",
     "text": [
      " loss of validation is 0.41167004251480105\n",
      "Validation f1 over epoch : 0.9295936226844788\n",
      "Validation acc_metric over epoch : 0.9010458588600159\n",
      "Validation AUC over epoch : 0.9239202737808228\n",
      "Validation recall_neg over epoch : 0.8235294222831726\n",
      "============================================================\n",
      "tf.Tensor(3.75e-06, shape=(), dtype=float32)\n",
      "==========================\n",
      "EPOCH 9\n",
      "==========================\n"
     ]
    },
    {
     "name": "stderr",
     "output_type": "stream",
     "text": [
      "100%|██████████| 497/497 [02:27<00:00,  3.37it/s]\n"
     ]
    },
    {
     "name": "stdout",
     "output_type": "stream",
     "text": [
      "training loss is 0.00012974987546170798\n",
      "Training f1 over epoch : 1.0\n",
      "Training acc_metric over epoch : 1.0\n",
      "Training AUC over epoch : 1.0\n",
      "Training recall_neg over epoch : 1.0\n",
      "============================================================\n",
      " loss of validation is 0.41203864884376523\n",
      "Validation f1 over epoch : 0.9295936226844788\n",
      "Validation acc_metric over epoch : 0.9010458588600159\n",
      "Validation AUC over epoch : 0.9228205680847168\n",
      "Validation recall_neg over epoch : 0.8235294222831726\n",
      "============================================================\n"
     ]
    }
   ],
   "source": [
    "RegularTrain(model=model, metric=Metrics).start_to_train(train_data_loader=train_BTL, \n",
    "                                                         epochs=10,\n",
    "                                                         checkpoint_path='./roberta/roberta_checkpoint_v3',\n",
    "                                                         tensorboard_path={'train':f'./roberta/tensorboard/train_roberta_v3', 'validation': f'./roberta/tensorboard/val_roberta_v3'},\n",
    "                                                         validation_data_loader=val_BTL)"
   ]
  },
  {
   "cell_type": "markdown",
   "metadata": {},
   "source": [
    "# Google papper Train"
   ]
  },
  {
   "cell_type": "markdown",
   "metadata": {},
   "source": [
    "### data agument --> back translate"
   ]
  },
  {
   "cell_type": "markdown",
   "metadata": {},
   "source": [
    "### Prepare training data"
   ]
  },
  {
   "cell_type": "code",
   "execution_count": 4,
   "metadata": {},
   "outputs": [],
   "source": [
    "training_data = pd.read_pickle('./data/train_data/train.pickle')\n",
    "split_spot = int(training_data.shape[0] * 0.8)\n",
    "train = training_data.iloc[: split_spot]\n",
    "validation = training_data.iloc[split_spot: ]\n",
    "\n",
    "back_translate_data = pd.read_pickle('./data/augment_data/back_translate_data.pkl').iloc[: split_spot]\n",
    "back_translate_data_train = pd.DataFrame(back_translate_data['back_translate']).rename(columns={'back_translate':'content'})"
   ]
  },
  {
   "cell_type": "code",
   "execution_count": 7,
   "metadata": {},
   "outputs": [
    {
     "data": {
      "text/html": [
       "<div>\n",
       "<style scoped>\n",
       "    .dataframe tbody tr th:only-of-type {\n",
       "        vertical-align: middle;\n",
       "    }\n",
       "\n",
       "    .dataframe tbody tr th {\n",
       "        vertical-align: top;\n",
       "    }\n",
       "\n",
       "    .dataframe thead th {\n",
       "        text-align: right;\n",
       "    }\n",
       "</style>\n",
       "<table border=\"1\" class=\"dataframe\">\n",
       "  <thead>\n",
       "    <tr style=\"text-align: right;\">\n",
       "      <th></th>\n",
       "      <th>content</th>\n",
       "      <th>back_translate</th>\n",
       "    </tr>\n",
       "  </thead>\n",
       "  <tbody>\n",
       "    <tr>\n",
       "      <th>0</th>\n",
       "      <td>2008.4.5入住该酒店南楼大床间,总体感觉不错，符合三星标准。值得赞一下的是客房送餐很好...</td>\n",
       "      <td>2008.4.5从南汇大号床房间开始，整体感觉很好，符合三星标准。房间很好，食物很好，价格不...</td>\n",
       "    </tr>\n",
       "    <tr>\n",
       "      <th>1</th>\n",
       "      <td>房间还算可以，就是旧了些。早餐没有酸奶，有些美中不足。</td>\n",
       "      <td>房间仍然可以，它很老。早餐没有酸奶，美丽有一点。</td>\n",
       "    </tr>\n",
       "    <tr>\n",
       "      <th>2</th>\n",
       "      <td>很好的酒店，设施和服务都让人满意，就是偏远了一点。</td>\n",
       "      <td>非常好的酒店，设施和服务很满意，它很远。</td>\n",
       "    </tr>\n",
       "    <tr>\n",
       "      <th>3</th>\n",
       "      <td>不如新开张时候好了，房间的地毯比较脏，网速是很慢的，电视的操作也非常不人性化。淋浴的地漏下水...</td>\n",
       "      <td>有一个新的开口更好，房间的地毯更脏，速度很慢，电视的运作非常稳定。淋浴的地板流失很慢，你将不...</td>\n",
       "    </tr>\n",
       "    <tr>\n",
       "      <th>4</th>\n",
       "      <td>我们是从银滩的酒店住宿后，搬过来的，所以这个酒店虽然离银滩远点，但是也没觉得什么不便，每天去...</td>\n",
       "      <td>在宾坦的酒店住宿后，我们搬家了，所以这家酒店虽然这家酒店离Yintan很远，但它并不是任何不...</td>\n",
       "    </tr>\n",
       "    <tr>\n",
       "      <th>...</th>\n",
       "      <td>...</td>\n",
       "      <td>...</td>\n",
       "    </tr>\n",
       "    <tr>\n",
       "      <th>4964</th>\n",
       "      <td>两个月里面已经住了三次了,当然好啦,交通也很方便哈</td>\n",
       "      <td>它已经在两个月内生活了三次。当然，交通也很方便。</td>\n",
       "    </tr>\n",
       "    <tr>\n",
       "      <th>4965</th>\n",
       "      <td>物有所值,但其预定车票的服务太一般,我给他们商务中心要求订次日到西安的卧铺票,除要收我30元...</td>\n",
       "      <td>有钱，但预订机票的服务太一般，我会问他们的商业中心订购睡眠机票到西安，除了收集我30元的门票...</td>\n",
       "    </tr>\n",
       "    <tr>\n",
       "      <th>4966</th>\n",
       "      <td>入住的酒店设施有点老，电视机也不较小，跟500元的房价还是有点差距的，不过服务不错，当天还送...</td>\n",
       "      <td>酒店的设施有点老，电视不小，价格500元仍然有点差距，但服务很好，生日鲜花和水果已被发送。</td>\n",
       "    </tr>\n",
       "    <tr>\n",
       "      <th>4967</th>\n",
       "      <td>房间小得不像话，早餐差得不像话，绝对不会再光顾。隔壁的南国大酒店看上去不错。晚上想在酒店的餐...</td>\n",
       "      <td>房间不喜欢，早餐是不可移开的，它永远不会再次光顾。南中国宾馆隔壁看起来很好。我想在酒店的餐厅...</td>\n",
       "    </tr>\n",
       "    <tr>\n",
       "      <th>4968</th>\n",
       "      <td>“十一”开车去的。在宾馆接线员的热情引领下，较容易地找到了它。然而，进入房间后，一切都变了：...</td>\n",
       "      <td>“11”开车。在酒店运营商的热情下，最容易找到它。但是，在进入房间后，一切都发生了变化：房间...</td>\n",
       "    </tr>\n",
       "  </tbody>\n",
       "</table>\n",
       "<p>4969 rows × 2 columns</p>\n",
       "</div>"
      ],
      "text/plain": [
       "                                                content  \\\n",
       "0     2008.4.5入住该酒店南楼大床间,总体感觉不错，符合三星标准。值得赞一下的是客房送餐很好...   \n",
       "1                           房间还算可以，就是旧了些。早餐没有酸奶，有些美中不足。   \n",
       "2                             很好的酒店，设施和服务都让人满意，就是偏远了一点。   \n",
       "3     不如新开张时候好了，房间的地毯比较脏，网速是很慢的，电视的操作也非常不人性化。淋浴的地漏下水...   \n",
       "4     我们是从银滩的酒店住宿后，搬过来的，所以这个酒店虽然离银滩远点，但是也没觉得什么不便，每天去...   \n",
       "...                                                 ...   \n",
       "4964                          两个月里面已经住了三次了,当然好啦,交通也很方便哈   \n",
       "4965  物有所值,但其预定车票的服务太一般,我给他们商务中心要求订次日到西安的卧铺票,除要收我30元...   \n",
       "4966  入住的酒店设施有点老，电视机也不较小，跟500元的房价还是有点差距的，不过服务不错，当天还送...   \n",
       "4967  房间小得不像话，早餐差得不像话，绝对不会再光顾。隔壁的南国大酒店看上去不错。晚上想在酒店的餐...   \n",
       "4968  “十一”开车去的。在宾馆接线员的热情引领下，较容易地找到了它。然而，进入房间后，一切都变了：...   \n",
       "\n",
       "                                         back_translate  \n",
       "0     2008.4.5从南汇大号床房间开始，整体感觉很好，符合三星标准。房间很好，食物很好，价格不...  \n",
       "1                              房间仍然可以，它很老。早餐没有酸奶，美丽有一点。  \n",
       "2                                  非常好的酒店，设施和服务很满意，它很远。  \n",
       "3     有一个新的开口更好，房间的地毯更脏，速度很慢，电视的运作非常稳定。淋浴的地板流失很慢，你将不...  \n",
       "4     在宾坦的酒店住宿后，我们搬家了，所以这家酒店虽然这家酒店离Yintan很远，但它并不是任何不...  \n",
       "...                                                 ...  \n",
       "4964                           它已经在两个月内生活了三次。当然，交通也很方便。  \n",
       "4965  有钱，但预订机票的服务太一般，我会问他们的商业中心订购睡眠机票到西安，除了收集我30元的门票...  \n",
       "4966      酒店的设施有点老，电视不小，价格500元仍然有点差距，但服务很好，生日鲜花和水果已被发送。  \n",
       "4967  房间不喜欢，早餐是不可移开的，它永远不会再次光顾。南中国宾馆隔壁看起来很好。我想在酒店的餐厅...  \n",
       "4968  “11”开车。在酒店运营商的热情下，最容易找到它。但是，在进入房间后，一切都发生了变化：房间...  \n",
       "\n",
       "[4969 rows x 2 columns]"
      ]
     },
     "execution_count": 7,
     "metadata": {},
     "output_type": "execute_result"
    }
   ],
   "source": [
    "back_translate_data"
   ]
  },
  {
   "cell_type": "code",
   "execution_count": 8,
   "metadata": {},
   "outputs": [],
   "source": [
    "\n",
    "tokenizer = BertTokenizer.from_pretrained(\"hfl/chinese-roberta-wwm-ext\")\n",
    "train_BTL = DataLoader(data=train,\n",
    "                      MAX_SEQUENCE_LENGTH=200,\n",
    "                      batch_size=10,\n",
    "                      imbalance_sample=False,\n",
    "                      tokenizer=tokenizer)\n",
    "\n",
    "val_BTL = DataLoader(data=validation, \n",
    "                     MAX_SEQUENCE_LENGTH=200,\n",
    "                     batch_size=10, \n",
    "                     imbalance_sample=False,\n",
    "                     tokenizer=tokenizer)\n",
    "\n",
    "back_translate_BTL = DataLoader(data=back_translate_data_train, \n",
    "                     MAX_SEQUENCE_LENGTH=200,\n",
    "                     batch_size=10, \n",
    "                     imbalance_sample=False,\n",
    "                     tokenizer=tokenizer,\n",
    "                     mode='no label')"
   ]
  },
  {
   "cell_type": "markdown",
   "metadata": {},
   "source": [
    "### Overriding the 'start_to_train' method"
   ]
  },
  {
   "cell_type": "code",
   "execution_count": 9,
   "metadata": {},
   "outputs": [],
   "source": [
    "import math\n",
    "from tqdm import tqdm\n",
    "from train import TensorBoard\n",
    "class BackTranslationTrain(TrainBase):\n",
    "    def __init__(self, model, metric: Metrics):\n",
    "        self.model = model\n",
    "        self.metric = metric\n",
    "        self.back_translation_yielder = None\n",
    "        \n",
    "    def train_step(self, X_batch, y_batch, optimizer, loss_recoder):\n",
    "        with tf.GradientTape() as tape:\n",
    "            logits = self.model(X_batch)\n",
    "            data_batch = next(iter(self.back_translation_yielder))\n",
    "            back_translate_x_batch = data_batch[0:3]\n",
    "#             print( back_translate_x_batch)\n",
    "\n",
    "            crossentropy_loss = tf.keras.losses.SparseCategoricalCrossentropy(from_logits=False)(y_batch, logits)\n",
    "            kl_loss = self._calculate_KLDivergence_loss_for_back_translation(X_batch_logits=logits, back_translate_x_batch=back_translate_x_batch)\n",
    "            \n",
    "            _lambda = 1 \n",
    "            loss_value = crossentropy_loss + (_lambda * kl_loss)\n",
    "\n",
    "            loss_recoder.append(loss_value.numpy())\n",
    "\n",
    "        grads = tape.gradient(loss_value, self.model.trainable_weights)\n",
    "        optimizer.apply_gradients(zip(grads, self.model.trainable_weights))\n",
    "\n",
    "        return logits, loss_recoder\n",
    "    \n",
    "    def setting_optimizer(self, decay_steps):\n",
    "        bert_lr_schedule = tf.keras.optimizers.schedules.PiecewiseConstantDecay(boundaries=[200, 600, 1200], \n",
    "                                                                                values=[2e-5, 1.5e-5, 1.5e-5*0.5, 1.5e-5*0.25])\n",
    "\n",
    "\n",
    "        optimizer = tf.keras.optimizers.Adam(learning_rate=bert_lr_schedule)\n",
    "        return optimizer\n",
    "    \n",
    "    \n",
    "    def start_to_train(self, train_data_loader,\n",
    "                   epochs,\n",
    "                   checkpoint_path,\n",
    "                   tensorboard_path: dict,\n",
    "                   back_translation_data_loader,\n",
    "                   validation_data_loader=None,\n",
    "                   ):\n",
    "\n",
    "        BATCH_LENGHT = math.ceil(train_data_loader.data.shape[0] / train_data_loader.batch_size)\n",
    "\n",
    "        # saving manager\n",
    "        checkpoint = tf.train.Checkpoint(Model=self.model)\n",
    "        #         manager = tf.train.CheckpointManager(checkpoint, directory=checkpoint_path, max_to_keep=10)\n",
    "\n",
    "        # Initialize Metric\n",
    "        TrainMetric = self.metric()\n",
    "\n",
    "        writer = tf.summary.create_file_writer(tensorboard_path['train'])\n",
    "\n",
    "        optimizer = self.setting_optimizer(decay_steps=epochs)\n",
    "        for epoch in range(epochs):\n",
    "            print(optimizer.lr(optimizer.iterations))\n",
    "            print('==========================')\n",
    "            print(f'EPOCH {epoch}')\n",
    "            print('==========================')\n",
    "\n",
    "            loss_recoder = []\n",
    "\n",
    "            #             tf.summary.trace_on(graph=True)\n",
    "            self.back_translation_yielder = self._yield_back_translation_btl(back_translation_data_loader)\n",
    "            for step, (X_batch_train, y_batch_train) in tqdm(enumerate(train_data_loader), total=BATCH_LENGHT):\n",
    "                logits, loss_recoder = self.train_step(X_batch=X_batch_train,\n",
    "                                                       y_batch=y_batch_train,\n",
    "                                                       optimizer=optimizer,\n",
    "                                                       loss_recoder=loss_recoder)\n",
    "\n",
    "                TrainMetric.calculate_metric(y_batch_train, logits=logits)\n",
    "                if step % 500 == 0:\n",
    "                    #                     manager.save(checkpoint_number=step)\n",
    "                    checkpoint.save(f'{checkpoint_path}/ckpt-epoch:{epoch}')\n",
    "\n",
    "            epoch_loss = sum(loss_recoder) / len(loss_recoder)\n",
    "\n",
    "            print(f\"training loss is {epoch_loss}\")\n",
    "\n",
    "            for name, result in TrainMetric.get_result.items():\n",
    "                print(f'Training {name} over epoch : {float(result)}')\n",
    "            print('============================================================')\n",
    "\n",
    "            #             with writer.as_default():\n",
    "            #                 tf.summary.trace_export(name=\"my_trace\",step=0)\n",
    "\n",
    "            TrainTB = TensorBoard(writer=writer,\n",
    "                                  model=self.model)\n",
    "            TrainTB.start_to_write(metrics_result=TrainMetric.get_result,\n",
    "                                   step=epoch,\n",
    "                                   loss=epoch_loss,\n",
    "                                   histogram=True,\n",
    "                                   optimizer=optimizer)\n",
    "\n",
    "            TrainMetric.reset()\n",
    "\n",
    "            if validation_data_loader is not None:\n",
    "                self._validation(validation_data_loader=validation_data_loader,\n",
    "                                 val_logdir=tensorboard_path['validation'],\n",
    "                                 ep=epoch)\n",
    "\n",
    "    \n",
    "    \n",
    "    def _yield_back_translation_btl(self, back_translation_data: DataLoader): \n",
    "        yield from back_translation_data\n",
    "        \n",
    "    def _calculate_KLDivergence_loss_for_back_translation(self, X_batch_logits, back_translate_x_batch):\n",
    "        back_translate_x_logits = self.model(back_translate_x_batch)\n",
    "        kl_loss = tf.keras.losses.KLDivergence()(X_batch_logits, back_translate_x_logits)\n",
    "        return kl_loss"
   ]
  },
  {
   "cell_type": "code",
   "execution_count": 10,
   "metadata": {},
   "outputs": [],
   "source": [
    "model = RoBertaFineTune(False)\n"
   ]
  },
  {
   "cell_type": "code",
   "execution_count": 11,
   "metadata": {
    "collapsed": true,
    "jupyter": {
     "outputs_hidden": true
    }
   },
   "outputs": [
    {
     "name": "stderr",
     "output_type": "stream",
     "text": [
      "  0%|          | 0/497 [00:00<?, ?it/s]"
     ]
    },
    {
     "name": "stdout",
     "output_type": "stream",
     "text": [
      "tf.Tensor(2e-05, shape=(), dtype=float32)\n",
      "==========================\n",
      "EPOCH 0\n",
      "==========================\n",
      "WARNING: AutoGraph could not transform <bound method RoBertaFineTune.call of <tensorflow.python.eager.function.TfMethodTarget object at 0x7fedec87c650>> and will run it as-is.\n",
      "Please report this to the TensorFlow team. When filing the bug, set the verbosity to 10 (on Linux, `export AUTOGRAPH_VERBOSITY=10`) and attach the full output.\n",
      "Cause: module 'gast' has no attribute 'Index'\n",
      "To silence this warning, decorate the function with @tf.autograph.experimental.do_not_convert\n",
      "WARNING: AutoGraph could not transform <bound method TFBertMainLayer.call of <transformers.models.bert.modeling_tf_bert.TFBertMainLayer object at 0x7feded420650>> and will run it as-is.\n",
      "Please report this to the TensorFlow team. When filing the bug, set the verbosity to 10 (on Linux, `export AUTOGRAPH_VERBOSITY=10`) and attach the full output.\n",
      "Cause: module 'gast' has no attribute 'Index'\n",
      "To silence this warning, decorate the function with @tf.autograph.experimental.do_not_convert\n",
      "WARNING: AutoGraph could not transform <bound method TFBertEmbeddings._embedding of <transformers.models.bert.modeling_tf_bert.TFBertEmbeddings object at 0x7fedf9a138d0>> and will run it as-is.\n",
      "Please report this to the TensorFlow team. When filing the bug, set the verbosity to 10 (on Linux, `export AUTOGRAPH_VERBOSITY=10`) and attach the full output.\n",
      "Cause: module 'gast' has no attribute 'Index'\n",
      "To silence this warning, decorate the function with @tf.autograph.experimental.do_not_convert\n",
      "WARNING: AutoGraph could not transform <bound method TFBertEncoder.call of <transformers.models.bert.modeling_tf_bert.TFBertEncoder object at 0x7feded284490>> and will run it as-is.\n",
      "Please report this to the TensorFlow team. When filing the bug, set the verbosity to 10 (on Linux, `export AUTOGRAPH_VERBOSITY=10`) and attach the full output.\n",
      "Cause: module 'gast' has no attribute 'Index'\n",
      "To silence this warning, decorate the function with @tf.autograph.experimental.do_not_convert\n",
      "WARNING: AutoGraph could not transform <bound method TFBertLayer.call of <transformers.models.bert.modeling_tf_bert.TFBertLayer object at 0x7fedec7a0290>> and will run it as-is.\n",
      "Please report this to the TensorFlow team. When filing the bug, set the verbosity to 10 (on Linux, `export AUTOGRAPH_VERBOSITY=10`) and attach the full output.\n",
      "Cause: module 'gast' has no attribute 'Index'\n",
      "To silence this warning, decorate the function with @tf.autograph.experimental.do_not_convert\n",
      "WARNING: AutoGraph could not transform <bound method TFBertAttention.call of <transformers.models.bert.modeling_tf_bert.TFBertAttention object at 0x7fedec7a00d0>> and will run it as-is.\n",
      "Please report this to the TensorFlow team. When filing the bug, set the verbosity to 10 (on Linux, `export AUTOGRAPH_VERBOSITY=10`) and attach the full output.\n",
      "Cause: module 'gast' has no attribute 'Index'\n",
      "To silence this warning, decorate the function with @tf.autograph.experimental.do_not_convert\n",
      "WARNING: AutoGraph could not transform <bound method TFBertSelfAttention.call of <transformers.models.bert.modeling_tf_bert.TFBertSelfAttention object at 0x7fedf7cc3550>> and will run it as-is.\n",
      "Please report this to the TensorFlow team. When filing the bug, set the verbosity to 10 (on Linux, `export AUTOGRAPH_VERBOSITY=10`) and attach the full output.\n",
      "Cause: module 'gast' has no attribute 'Index'\n",
      "To silence this warning, decorate the function with @tf.autograph.experimental.do_not_convert\n",
      "WARNING: AutoGraph could not transform <bound method TFBertPooler.call of <transformers.models.bert.modeling_tf_bert.TFBertPooler object at 0x7feded284990>> and will run it as-is.\n",
      "Please report this to the TensorFlow team. When filing the bug, set the verbosity to 10 (on Linux, `export AUTOGRAPH_VERBOSITY=10`) and attach the full output.\n",
      "Cause: module 'gast' has no attribute 'Index'\n",
      "To silence this warning, decorate the function with @tf.autograph.experimental.do_not_convert\n"
     ]
    },
    {
     "name": "stderr",
     "output_type": "stream",
     "text": [
      "100%|██████████| 497/497 [04:24<00:00,  1.88it/s]\n"
     ]
    },
    {
     "name": "stdout",
     "output_type": "stream",
     "text": [
      "training loss is 0.31330701283046175\n",
      "Training f1 over epoch : 0.9137780666351318\n",
      "Training acc_metric over epoch : 0.8808613419532776\n",
      "Training AUC over epoch : 0.9550256729125977\n",
      "Training recall_neg over epoch : 0.7818410992622375\n",
      "============================================================\n"
     ]
    },
    {
     "name": "stderr",
     "output_type": "stream",
     "text": [
      "  0%|          | 0/497 [00:00<?, ?it/s]"
     ]
    },
    {
     "name": "stdout",
     "output_type": "stream",
     "text": [
      " loss of validation is 0.43640807914733887\n",
      "Validation f1 over epoch : 0.9238302111625671\n",
      "Validation acc_metric over epoch : 0.8873692750930786\n",
      "Validation AUC over epoch : 0.9634450674057007\n",
      "Validation recall_neg over epoch : 0.6791443824768066\n",
      "============================================================\n",
      "tf.Tensor(1.5e-05, shape=(), dtype=float32)\n",
      "==========================\n",
      "EPOCH 1\n",
      "==========================\n"
     ]
    },
    {
     "name": "stderr",
     "output_type": "stream",
     "text": [
      "100%|██████████| 497/497 [04:17<00:00,  1.93it/s]\n"
     ]
    },
    {
     "name": "stdout",
     "output_type": "stream",
     "text": [
      "training loss is 0.1713484374082964\n",
      "Training f1 over epoch : 0.9645599126815796\n",
      "Training acc_metric over epoch : 0.9517005681991577\n",
      "Training AUC over epoch : 0.9899201989173889\n",
      "Training recall_neg over epoch : 0.9224464297294617\n",
      "============================================================\n"
     ]
    },
    {
     "name": "stderr",
     "output_type": "stream",
     "text": [
      "  0%|          | 0/497 [00:00<?, ?it/s]"
     ]
    },
    {
     "name": "stdout",
     "output_type": "stream",
     "text": [
      " loss of validation is 0.4041449258327484\n",
      "Validation f1 over epoch : 0.9381443858146667\n",
      "Validation acc_metric over epoch : 0.9131134152412415\n",
      "Validation AUC over epoch : 0.9727451801300049\n",
      "Validation recall_neg over epoch : 0.8449198007583618\n",
      "============================================================\n",
      "tf.Tensor(7.5e-06, shape=(), dtype=float32)\n",
      "==========================\n",
      "EPOCH 2\n",
      "==========================\n"
     ]
    },
    {
     "name": "stderr",
     "output_type": "stream",
     "text": [
      "100%|██████████| 497/497 [04:17<00:00,  1.93it/s]\n"
     ]
    },
    {
     "name": "stdout",
     "output_type": "stream",
     "text": [
      "training loss is 0.09792406513248861\n",
      "Training f1 over epoch : 0.9834221005439758\n",
      "Training acc_metric over epoch : 0.9774602651596069\n",
      "Training AUC over epoch : 0.9974770545959473\n",
      "Training recall_neg over epoch : 0.9678436517715454\n",
      "============================================================\n"
     ]
    },
    {
     "name": "stderr",
     "output_type": "stream",
     "text": [
      "  0%|          | 0/497 [00:00<?, ?it/s]"
     ]
    },
    {
     "name": "stdout",
     "output_type": "stream",
     "text": [
      " loss of validation is 0.39937058281898496\n",
      "Validation f1 over epoch : 0.9399656653404236\n",
      "Validation acc_metric over epoch : 0.9155269265174866\n",
      "Validation AUC over epoch : 0.9711090326309204\n",
      "Validation recall_neg over epoch : 0.8449198007583618\n",
      "============================================================\n",
      "tf.Tensor(3.75e-06, shape=(), dtype=float32)\n",
      "==========================\n",
      "EPOCH 3\n",
      "==========================\n"
     ]
    },
    {
     "name": "stderr",
     "output_type": "stream",
     "text": [
      "100%|██████████| 497/497 [04:20<00:00,  1.91it/s]\n"
     ]
    },
    {
     "name": "stdout",
     "output_type": "stream",
     "text": [
      "training loss is 0.05729922820215246\n",
      "Training f1 over epoch : 0.9920213222503662\n",
      "Training acc_metric over epoch : 0.9891326427459717\n",
      "Training AUC over epoch : 0.9991122484207153\n",
      "Training recall_neg over epoch : 0.9823455214500427\n",
      "============================================================\n"
     ]
    },
    {
     "name": "stderr",
     "output_type": "stream",
     "text": [
      "  0%|          | 0/497 [00:00<?, ?it/s]"
     ]
    },
    {
     "name": "stdout",
     "output_type": "stream",
     "text": [
      " loss of validation is 0.39723227167129516\n",
      "Validation f1 over epoch : 0.9362688660621643\n",
      "Validation acc_metric over epoch : 0.9115044474601746\n",
      "Validation AUC over epoch : 0.9671357870101929\n",
      "Validation recall_neg over epoch : 0.8689839839935303\n",
      "============================================================\n",
      "tf.Tensor(3.75e-06, shape=(), dtype=float32)\n",
      "==========================\n",
      "EPOCH 4\n",
      "==========================\n"
     ]
    },
    {
     "name": "stderr",
     "output_type": "stream",
     "text": [
      "100%|██████████| 497/497 [04:20<00:00,  1.90it/s]\n"
     ]
    },
    {
     "name": "stdout",
     "output_type": "stream",
     "text": [
      "training loss is 0.03545338292423471\n",
      "Training f1 over epoch : 0.9955608248710632\n",
      "Training acc_metric over epoch : 0.9939625859260559\n",
      "Training AUC over epoch : 0.9993152618408203\n",
      "Training recall_neg over epoch : 0.993064284324646\n",
      "============================================================\n"
     ]
    },
    {
     "name": "stderr",
     "output_type": "stream",
     "text": [
      "  0%|          | 0/497 [00:00<?, ?it/s]"
     ]
    },
    {
     "name": "stdout",
     "output_type": "stream",
     "text": [
      " loss of validation is 0.4000521020889282\n",
      "Validation f1 over epoch : 0.936896026134491\n",
      "Validation acc_metric over epoch : 0.9106999039649963\n",
      "Validation AUC over epoch : 0.9603378176689148\n",
      "Validation recall_neg over epoch : 0.8235294222831726\n",
      "============================================================\n",
      "tf.Tensor(3.75e-06, shape=(), dtype=float32)\n",
      "==========================\n",
      "EPOCH 5\n",
      "==========================\n"
     ]
    },
    {
     "name": "stderr",
     "output_type": "stream",
     "text": [
      "100%|██████████| 497/497 [04:21<00:00,  1.90it/s]\n"
     ]
    },
    {
     "name": "stdout",
     "output_type": "stream",
     "text": [
      "training loss is 0.02684514303127176\n",
      "Training f1 over epoch : 0.997633159160614\n",
      "Training acc_metric over epoch : 0.9967800378799438\n",
      "Training AUC over epoch : 0.999362587928772\n",
      "Training recall_neg over epoch : 0.99684739112854\n",
      "============================================================\n"
     ]
    },
    {
     "name": "stderr",
     "output_type": "stream",
     "text": [
      "  0%|          | 0/497 [00:00<?, ?it/s]"
     ]
    },
    {
     "name": "stdout",
     "output_type": "stream",
     "text": [
      " loss of validation is 0.4044620838165283\n",
      "Validation f1 over epoch : 0.9329608678817749\n",
      "Validation acc_metric over epoch : 0.903459370136261\n",
      "Validation AUC over epoch : 0.9522846341133118\n",
      "Validation recall_neg over epoch : 0.7700534462928772\n",
      "============================================================\n",
      "tf.Tensor(3.75e-06, shape=(), dtype=float32)\n",
      "==========================\n",
      "EPOCH 6\n",
      "==========================\n"
     ]
    },
    {
     "name": "stderr",
     "output_type": "stream",
     "text": [
      "100%|██████████| 497/497 [04:21<00:00,  1.90it/s]\n"
     ]
    },
    {
     "name": "stdout",
     "output_type": "stream",
     "text": [
      "training loss is 0.015559593322045043\n",
      "Training f1 over epoch : 0.9983725547790527\n",
      "Training acc_metric over epoch : 0.997786283493042\n",
      "Training AUC over epoch : 0.9994890689849854\n",
      "Training recall_neg over epoch : 0.9987389445304871\n",
      "============================================================\n"
     ]
    },
    {
     "name": "stderr",
     "output_type": "stream",
     "text": [
      "  0%|          | 0/497 [00:00<?, ?it/s]"
     ]
    },
    {
     "name": "stdout",
     "output_type": "stream",
     "text": [
      " loss of validation is 0.39713256096839905\n",
      "Validation f1 over epoch : 0.9396502375602722\n",
      "Validation acc_metric over epoch : 0.9139179587364197\n",
      "Validation AUC over epoch : 0.9523666501045227\n",
      "Validation recall_neg over epoch : 0.8101603984832764\n",
      "============================================================\n",
      "tf.Tensor(3.75e-06, shape=(), dtype=float32)\n",
      "==========================\n",
      "EPOCH 7\n",
      "==========================\n"
     ]
    },
    {
     "name": "stderr",
     "output_type": "stream",
     "text": [
      "100%|██████████| 497/497 [04:21<00:00,  1.90it/s]\n"
     ]
    },
    {
     "name": "stdout",
     "output_type": "stream",
     "text": [
      "training loss is 0.01704380734049728\n",
      "Training f1 over epoch : 0.9982243180274963\n",
      "Training acc_metric over epoch : 0.9975849986076355\n",
      "Training AUC over epoch : 0.9993069171905518\n",
      "Training recall_neg over epoch : 0.9987389445304871\n",
      "============================================================\n"
     ]
    },
    {
     "name": "stderr",
     "output_type": "stream",
     "text": [
      "  0%|          | 0/497 [00:00<?, ?it/s]"
     ]
    },
    {
     "name": "stdout",
     "output_type": "stream",
     "text": [
      " loss of validation is 0.4024661900997162\n",
      "Validation f1 over epoch : 0.9330199360847473\n",
      "Validation acc_metric over epoch : 0.9082863926887512\n",
      "Validation AUC over epoch : 0.9539939761161804\n",
      "Validation recall_neg over epoch : 0.8957219123840332\n",
      "============================================================\n",
      "tf.Tensor(3.75e-06, shape=(), dtype=float32)\n",
      "==========================\n",
      "EPOCH 8\n",
      "==========================\n"
     ]
    },
    {
     "name": "stderr",
     "output_type": "stream",
     "text": [
      "100%|██████████| 497/497 [04:23<00:00,  1.89it/s]\n"
     ]
    },
    {
     "name": "stdout",
     "output_type": "stream",
     "text": [
      "training loss is 0.01763424325224445\n",
      "Training f1 over epoch : 0.9983730316162109\n",
      "Training acc_metric over epoch : 0.997786283493042\n",
      "Training AUC over epoch : 0.9994682669639587\n",
      "Training recall_neg over epoch : 0.998108446598053\n",
      "============================================================\n"
     ]
    },
    {
     "name": "stderr",
     "output_type": "stream",
     "text": [
      "  0%|          | 0/497 [00:00<?, ?it/s]"
     ]
    },
    {
     "name": "stdout",
     "output_type": "stream",
     "text": [
      " loss of validation is 0.3976629776954651\n",
      "Validation f1 over epoch : 0.939150333404541\n",
      "Validation acc_metric over epoch : 0.9147224426269531\n",
      "Validation AUC over epoch : 0.9572155475616455\n",
      "Validation recall_neg over epoch : 0.8529411554336548\n",
      "============================================================\n",
      "tf.Tensor(3.75e-06, shape=(), dtype=float32)\n",
      "==========================\n",
      "EPOCH 9\n",
      "==========================\n"
     ]
    },
    {
     "name": "stderr",
     "output_type": "stream",
     "text": [
      "100%|██████████| 497/497 [04:23<00:00,  1.88it/s]\n"
     ]
    },
    {
     "name": "stdout",
     "output_type": "stream",
     "text": [
      "training loss is 0.010047289896257488\n",
      "Training f1 over epoch : 0.9989650249481201\n",
      "Training acc_metric over epoch : 0.9985912442207336\n",
      "Training AUC over epoch : 0.9997690916061401\n",
      "Training recall_neg over epoch : 0.9987389445304871\n",
      "============================================================\n",
      " loss of validation is 0.3977262268066406\n",
      "Validation f1 over epoch : 0.93746417760849\n",
      "Validation acc_metric over epoch : 0.912308931350708\n",
      "Validation AUC over epoch : 0.952040433883667\n",
      "Validation recall_neg over epoch : 0.8475936055183411\n",
      "============================================================\n"
     ]
    }
   ],
   "source": [
    "BackTranslationTrain(model=model, metric=Metrics).start_to_train(train_data_loader=train_BTL, \n",
    "                                                                 epochs=10,\n",
    "                                                                 checkpoint_path='./roberta/back_translate_roberta_checkpoint_v3',\n",
    "                                                                 tensorboard_path={'train':f'./roberta/tensorboard/back_translate_train_roberta_v3', 'validation': f'./roberta/tensorboard/back_translate_val_roberta_v3'},\n",
    "                                                                 validation_data_loader=val_BTL, \n",
    "                                                                 back_translation_data_loader=back_translate_BTL)"
   ]
  },
  {
   "cell_type": "markdown",
   "metadata": {},
   "source": [
    "## Testing"
   ]
  },
  {
   "cell_type": "code",
   "execution_count": 2,
   "metadata": {},
   "outputs": [],
   "source": [
    "import numpy as np\n",
    "from time import time\n",
    "from sklearn.metrics import classification_report\n"
   ]
  },
  {
   "cell_type": "code",
   "execution_count": 3,
   "metadata": {},
   "outputs": [],
   "source": [
    "tokenizer = BertTokenizer.from_pretrained(\"hfl/chinese-roberta-wwm-ext\")\n",
    "\n",
    "test = pd.read_pickle('./data/test_data/test.pickle')"
   ]
  },
  {
   "cell_type": "code",
   "execution_count": 4,
   "metadata": {},
   "outputs": [],
   "source": [
    "def calcuate_test_loss(y_pred_logitis, y_true):\n",
    "#     y_true = [y_true.map({'negative':1, 'positive':0}).iloc[0]]\n",
    "    loss = tf.keras.losses.SparseCategoricalCrossentropy(from_logits=False)(y_true, y_pred_logitis)\n",
    "    return loss\n",
    "\n",
    "def predict(model, test_data):\n",
    "    y_pred_li, y_pred_logitis_li, pooler_out_li = [], [], []\n",
    "    predict_loss = []\n",
    "    for i in range(0, len(test_data), 1):\n",
    "        data = test_data.iloc[i : i + 1]\n",
    "\n",
    "        pred_BTL = DataLoader(data=data ,\n",
    "                         MAX_SEQUENCE_LENGTH=200,\n",
    "                         batch_size=len(data), \n",
    "                         imbalance_sample=False,\n",
    "                         tokenizer=tokenizer)\n",
    "\n",
    "        y_pred, y_pred_logitis, pooler_out  = model.predict(pred_BTL, model=model, return_logistis_and_pooler=True)\n",
    "        predict_loss.append(calcuate_test_loss(y_pred_logitis, test_data.iloc[i : i + 1]['label']))\n",
    "        y_pred_li.extend(list(y_pred.numpy()))\n",
    "        y_pred_logitis_li.extend(list(y_pred_logitis.numpy().max(-1)))\n",
    "        pooler_out_li.append(pooler_out.numpy())\n",
    "    return y_pred_li, y_pred_logitis_li, pooler_out_li, predict_loss\n",
    "    \n",
    "from sklearn.metrics import classification_report\n",
    "import itertools\n",
    "import matplotlib.pyplot as plt\n",
    "from sklearn.metrics import confusion_matrix\n",
    "def plot_confusion_matrix(cm, classes,\n",
    "                          normalize=False,\n",
    "                          title='Confusion matrix',\n",
    "                          cmap=plt.cm.Greens):\n",
    "    \"\"\"\n",
    "    This function prints and plots the confusion matrix.\n",
    "    Normalization can be applied by setting `normalize=True`.\n",
    "    \"\"\"\n",
    "    if normalize:\n",
    "        cm = cm.astype('float') / cm.sum(axis=1)[:, np.newaxis]\n",
    "        print(\"Normalized confusion matrix\")\n",
    "    else:\n",
    "        print('Confusion matrix, without normalization')\n",
    "\n",
    "    print(cm)\n",
    "\n",
    "    plt.imshow(cm, interpolation='nearest', cmap=cmap)\n",
    "    plt.title(title)\n",
    "    plt.colorbar()\n",
    "    tick_marks = np.arange(len(classes))\n",
    "    plt.xticks(tick_marks, classes, rotation=45)\n",
    "    plt.yticks(tick_marks, classes)\n",
    "\n",
    "    fmt = '.2f' if normalize else 'd'\n",
    "    thresh = cm.max() / 2.\n",
    "    for i, j in itertools.product(range(cm.shape[0]), range(cm.shape[1])):\n",
    "        plt.text(j, i, format(cm[i, j], fmt),\n",
    "                 horizontalalignment=\"center\",\n",
    "                 color=\"white\" if cm[i, j] > thresh else \"black\")\n",
    "\n",
    "    plt.ylabel('True label')\n",
    "    plt.xlabel('Predicted label')\n",
    "    plt.tight_layout()"
   ]
  },
  {
   "cell_type": "markdown",
   "metadata": {},
   "source": [
    "## General roberta"
   ]
  },
  {
   "cell_type": "code",
   "execution_count": 7,
   "metadata": {},
   "outputs": [
    {
     "name": "stdout",
     "output_type": "stream",
     "text": [
      ".....model is loading\n",
      "You got it\n",
      "WARNING: AutoGraph could not transform <bound method RoBertaFineTune.call of <tensorflow.python.eager.function.TfMethodTarget object at 0x7ff48021fd90>> and will run it as-is.\n",
      "Please report this to the TensorFlow team. When filing the bug, set the verbosity to 10 (on Linux, `export AUTOGRAPH_VERBOSITY=10`) and attach the full output.\n",
      "Cause: module 'gast' has no attribute 'Index'\n",
      "To silence this warning, decorate the function with @tf.autograph.experimental.do_not_convert\n",
      "WARNING: AutoGraph could not transform <bound method TFBertMainLayer.call of <transformers.models.bert.modeling_tf_bert.TFBertMainLayer object at 0x7ff4801aac90>> and will run it as-is.\n",
      "Please report this to the TensorFlow team. When filing the bug, set the verbosity to 10 (on Linux, `export AUTOGRAPH_VERBOSITY=10`) and attach the full output.\n",
      "Cause: module 'gast' has no attribute 'Index'\n",
      "To silence this warning, decorate the function with @tf.autograph.experimental.do_not_convert\n",
      "WARNING: AutoGraph could not transform <bound method TFBertEmbeddings._embedding of <transformers.models.bert.modeling_tf_bert.TFBertEmbeddings object at 0x7ff4801aab10>> and will run it as-is.\n",
      "Please report this to the TensorFlow team. When filing the bug, set the verbosity to 10 (on Linux, `export AUTOGRAPH_VERBOSITY=10`) and attach the full output.\n",
      "Cause: module 'gast' has no attribute 'Index'\n",
      "To silence this warning, decorate the function with @tf.autograph.experimental.do_not_convert\n",
      "WARNING: AutoGraph could not transform <bound method TFBertEncoder.call of <transformers.models.bert.modeling_tf_bert.TFBertEncoder object at 0x7ff488101b90>> and will run it as-is.\n",
      "Please report this to the TensorFlow team. When filing the bug, set the verbosity to 10 (on Linux, `export AUTOGRAPH_VERBOSITY=10`) and attach the full output.\n",
      "Cause: module 'gast' has no attribute 'Index'\n",
      "To silence this warning, decorate the function with @tf.autograph.experimental.do_not_convert\n",
      "WARNING: AutoGraph could not transform <bound method TFBertLayer.call of <transformers.models.bert.modeling_tf_bert.TFBertLayer object at 0x7ff4801a5d50>> and will run it as-is.\n",
      "Please report this to the TensorFlow team. When filing the bug, set the verbosity to 10 (on Linux, `export AUTOGRAPH_VERBOSITY=10`) and attach the full output.\n",
      "Cause: module 'gast' has no attribute 'Index'\n",
      "To silence this warning, decorate the function with @tf.autograph.experimental.do_not_convert\n",
      "WARNING: AutoGraph could not transform <bound method TFBertAttention.call of <transformers.models.bert.modeling_tf_bert.TFBertAttention object at 0x7ff4801a5c90>> and will run it as-is.\n",
      "Please report this to the TensorFlow team. When filing the bug, set the verbosity to 10 (on Linux, `export AUTOGRAPH_VERBOSITY=10`) and attach the full output.\n",
      "Cause: module 'gast' has no attribute 'Index'\n",
      "To silence this warning, decorate the function with @tf.autograph.experimental.do_not_convert\n",
      "WARNING: AutoGraph could not transform <bound method TFBertSelfAttention.call of <transformers.models.bert.modeling_tf_bert.TFBertSelfAttention object at 0x7ff4801a5910>> and will run it as-is.\n",
      "Please report this to the TensorFlow team. When filing the bug, set the verbosity to 10 (on Linux, `export AUTOGRAPH_VERBOSITY=10`) and attach the full output.\n",
      "Cause: module 'gast' has no attribute 'Index'\n",
      "To silence this warning, decorate the function with @tf.autograph.experimental.do_not_convert\n",
      "WARNING: AutoGraph could not transform <bound method TFBertPooler.call of <transformers.models.bert.modeling_tf_bert.TFBertPooler object at 0x7ff488101bd0>> and will run it as-is.\n",
      "Please report this to the TensorFlow team. When filing the bug, set the verbosity to 10 (on Linux, `export AUTOGRAPH_VERBOSITY=10`) and attach the full output.\n",
      "Cause: module 'gast' has no attribute 'Index'\n",
      "To silence this warning, decorate the function with @tf.autograph.experimental.do_not_convert\n",
      "CPU times: user 1min 51s, sys: 1.29 s, total: 1min 52s\n",
      "Wall time: 2min 3s\n"
     ]
    }
   ],
   "source": [
    "%%time\n",
    "general_roberta = RoBertaFineTune(False).load_model('./roberta/roberta_checkpoint_v3/', latest=True)\n",
    "y_pred_li, y_pred_logitis_li, pooler_out_li, predict_loss = predict(general_roberta, test)"
   ]
  },
  {
   "cell_type": "markdown",
   "metadata": {},
   "source": [
    "### predict loss"
   ]
  },
  {
   "cell_type": "code",
   "execution_count": 8,
   "metadata": {},
   "outputs": [
    {
     "data": {
      "text/plain": [
       "<AxesSubplot:ylabel='Frequency'>"
      ]
     },
     "execution_count": 8,
     "metadata": {},
     "output_type": "execute_result"
    },
    {
     "data": {
      "image/png": "[encoded data removed]",
      "text/plain": [
       "<Figure size 432x288 with 1 Axes>"
      ]
     },
     "metadata": {
      "needs_background": "light"
     },
     "output_type": "display_data"
    }
   ],
   "source": [
    "pd.Series([i.numpy() for i in predict_loss]).plot(kind='hist')\n"
   ]
  },
  {
   "cell_type": "code",
   "execution_count": 12,
   "metadata": {},
   "outputs": [
    {
     "name": "stdout",
     "output_type": "stream",
     "text": [
      "              precision    recall  f1-score   support\n",
      "\n",
      "         neg       0.83      0.88      0.85       483\n",
      "         pos       0.94      0.92      0.93      1070\n",
      "\n",
      "    accuracy                           0.91      1553\n",
      "   macro avg       0.89      0.90      0.89      1553\n",
      "weighted avg       0.91      0.91      0.91      1553\n",
      "\n",
      "Confusion matrix, without normalization\n",
      "[[423  60]\n",
      " [ 85 985]]\n"
     ]
    },
    {
     "data": {
      "image/png": "[encoded data removed]",
      "text/plain": [
       "<Figure size 432x288 with 2 Axes>"
      ]
     },
     "metadata": {
      "needs_background": "light"
     },
     "output_type": "display_data"
    }
   ],
   "source": [
    "y_true = test.label\n",
    "print(classification_report(y_true, y_pred_li, target_names=['neg', 'pos']))\n",
    "cnf_matrix = confusion_matrix(y_true, y_pred_li)\n",
    "plot_confusion_matrix(cnf_matrix, classes=['neg', 'pos'],normalize=False,\n",
    "                    title='confusion matrix')"
   ]
  },
  {
   "cell_type": "markdown",
   "metadata": {},
   "source": [
    "## Back translate roberta"
   ]
  },
  {
   "cell_type": "code",
   "execution_count": 10,
   "metadata": {},
   "outputs": [
    {
     "name": "stdout",
     "output_type": "stream",
     "text": [
      ".....model is loading\n",
      "You got it\n",
      "CPU times: user 1min 54s, sys: 929 ms, total: 1min 55s\n",
      "Wall time: 2min 6s\n"
     ]
    }
   ],
   "source": [
    "%%time\n",
    "translate_roberta =  RoBertaFineTune(False).load_model('./roberta/back_translate_roberta_checkpoint_v3', latest=True)\n",
    "y_translate_pred_li, y_translate_pred_logitis_li, pooler_translate_out_li, predict_translate_loss = predict(translate_roberta, test)"
   ]
  },
  {
   "cell_type": "markdown",
   "metadata": {},
   "source": [
    "### predict loss"
   ]
  },
  {
   "cell_type": "code",
   "execution_count": 11,
   "metadata": {},
   "outputs": [
    {
     "data": {
      "text/plain": [
       "<AxesSubplot:ylabel='Frequency'>"
      ]
     },
     "execution_count": 11,
     "metadata": {},
     "output_type": "execute_result"
    },
    {
     "data": {
      "image/png": "[encoded data removed]",
      "text/plain": [
       "<Figure size 432x288 with 1 Axes>"
      ]
     },
     "metadata": {
      "needs_background": "light"
     },
     "output_type": "display_data"
    }
   ],
   "source": [
    "pd.Series([i.numpy() for i in predict_translate_loss]).plot(kind='hist')\n"
   ]
  },
  {
   "cell_type": "code",
   "execution_count": 11,
   "metadata": {},
   "outputs": [
    {
     "name": "stdout",
     "output_type": "stream",
     "text": [
      "              precision    recall  f1-score   support\n",
      "\n",
      "         neg       0.85      0.88      0.86       483\n",
      "         pos       0.94      0.93      0.94      1070\n",
      "\n",
      "    accuracy                           0.91      1553\n",
      "   macro avg       0.89      0.90      0.90      1553\n",
      "weighted avg       0.91      0.91      0.91      1553\n",
      "\n",
      "Confusion matrix, without normalization\n",
      "[[423  60]\n",
      " [ 77 993]]\n"
     ]
    },
    {
     "data": {
      "image/png": "[encoded data removed]",
      "text/plain": [
       "<Figure size 432x288 with 2 Axes>"
      ]
     },
     "metadata": {
      "needs_background": "light"
     },
     "output_type": "display_data"
    }
   ],
   "source": [
    "y_true = test.label\n",
    "print(classification_report(y_true, y_translate_pred_li, target_names=['neg', 'pos']))\n",
    "cnf_matrix = confusion_matrix(y_true, y_translate_pred_li)\n",
    "plot_confusion_matrix(cnf_matrix, classes=['neg', 'pos'],normalize=False,\n",
    "                    title='confusion matrix')"
   ]
  },
  {
   "cell_type": "code",
   "execution_count": null,
   "metadata": {},
   "outputs": [],
   "source": []
  }
 ],
 "metadata": {
  "kernelspec": {
   "display_name": "Python 3",
   "language": "python",
   "name": "python3"
  },
  "language_info": {
   "codemirror_mode": {
    "name": "ipython",
    "version": 3
   },
   "file_extension": ".py",
   "mimetype": "text/x-python",
   "name": "python",
   "nbconvert_exporter": "python",
   "pygments_lexer": "ipython3",
   "version": "3.7.6"
  }
 },
 "nbformat": 4,
 "nbformat_minor": 5
}
